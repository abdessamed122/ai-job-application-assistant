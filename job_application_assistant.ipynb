{
 "cells": [
  {
   "cell_type": "markdown",
   "metadata": {},
   "source": [
    "# Multi-Agent System: Smart Job Application Tailoring Assistant\n",
    "Developed using CrewAI and LangChain stack"
   ]
  },
  {
   "cell_type": "code",
   "execution_count": null,
   "metadata": {},
   "outputs": [],
   "source": [
    "# Optional: Install necessary libraries (if running locally)\n",
    "# !pip install crewai==0.28.8 crewai_tools==0.1.6 langchain_community==0.0.29"
   ]
  },
  {
   "cell_type": "code",
   "execution_count": null,
   "metadata": {},
   "outputs": [],
   "source": [
    "# Silence warnings for a cleaner output\n",
    "import warnings\n",
    "warnings.filterwarnings('ignore')"
   ]
  },
  {
   "cell_type": "code",
   "execution_count": null,
   "metadata": {},
   "outputs": [],
   "source": [
    "# Environment setup\n",
    "import os\n",
    "from google.colab import userdata\n",
    "\n",
    "openai_api_key = userdata.get('OPENAI_API_KEY')\n",
    "os.environ[\"OPENAI_API_KEY\"] = openai_api_key\n",
    "os.environ[\"OPENAI_MODEL_NAME\"] = 'gpt-3.5-turbo'\n",
    "os.environ[\"SERPER_API_KEY\"] = userdata.get('SERPER_API_KEY')"
   ]
  },
  {
   "cell_type": "code",
   "execution_count": null,
   "metadata": {},
   "outputs": [],
   "source": [
    "# Importing required modules and tools\n",
    "from crewai import Agent, Task, Crew\n",
    "from crewai_tools import (\n",
    "  FileReadTool,\n",
    "  ScrapeWebsiteTool,\n",
    "  MDXSearchTool,\n",
    "  SerperDevTool\n",
    ")"
   ]
  },
  {
   "cell_type": "code",
   "execution_count": null,
   "metadata": {},
   "outputs": [],
   "source": [
    "# Define tools\n",
    "search_tool = SerperDevTool()\n",
    "scrape_tool = ScrapeWebsiteTool()\n",
    "read_resume = FileReadTool(file_path='./cv.md')\n",
    "semantic_search_resume = MDXSearchTool(mdx='./cv.md')"
   ]
  },
  {
   "cell_type": "code",
   "execution_count": null,
   "metadata": {},
   "outputs": [],
   "source": [
    "# Define Agents\n",
    "# Agent 1: Job Market Researcher\n",
    "researcher = Agent(\n",
    "    role=\"Tech Job Researcher\",\n",
    "    goal=\"Analyze job postings to extract required qualifications\",\n",
    "    tools=[scrape_tool, search_tool],\n",
    "    verbose=True,\n",
    "    backstory=(\n",
    "        \"An expert in job market trends, responsible for extracting core requirements \"\n",
    "        \"and key insights from technical job listings.\"\n",
    "    )\n",
    ")\n",
    "\n",
    "# Agent 2: Personal Profiler\n",
    "profiler = Agent(\n",
    "    role=\"Personal Profiler for Engineers\",\n",
    "    goal=\"Generate detailed personal profiles from candidate data\",\n",
    "    tools=[scrape_tool, search_tool, read_resume, semantic_search_resume],\n",
    "    verbose=True,\n",
    "    backstory=(\n",
    "        \"Specialist in analyzing candidate backgrounds through resumes, GitHub profiles, \"\n",
    "        \"and online content to build comprehensive profiles for job matching.\"\n",
    "    )\n",
    ")\n",
    "\n",
    "# Agent 3: Resume Strategist\n",
    "resume_strategist = Agent(\n",
    "    role=\"Resume Strategist for Engineers\",\n",
    "    goal=\"Enhance resumes by aligning them with job requirements\",\n",
    "    tools=[scrape_tool, search_tool, read_resume, semantic_search_resume],\n",
    "    verbose=True,\n",
    "    backstory=(\n",
    "        \"Focused on optimizing resumes to best represent a candidate's qualifications \"\n",
    "        \"based on the job market and employer expectations.\"\n",
    "    )\n",
    ")\n",
    "\n",
    "# Agent 4: Interview Preparer\n",
    "interview_preparer = Agent(\n",
    "    role=\"Engineering Interview Preparer\",\n",
    "    goal=\"Generate tailored interview questions and discussion points\",\n",
    "    tools=[scrape_tool, search_tool, read_resume, semantic_search_resume],\n",
    "    verbose=True,\n",
    "    backstory=(\n",
    "        \"Creates targeted interview questions to ensure the candidate can communicate \"\n",
    "        \"their skills and experience confidently during interviews.\"\n",
    "    )\n",
    ")"
   ]
  },
  {
   "cell_type": "code",
   "execution_count": null,
   "metadata": {},
   "outputs": [],
   "source": [
    "# Define Tasks\n",
    "research_task = Task(\n",
    "    description=(\n",
    "        \"Extract core technical and soft skills, qualifications, and responsibilities \"\n",
    "        \"from the job posting URL provided ({job_posting_url}).\"\n",
    "    ),\n",
    "    expected_output=(\n",
    "        \"Structured list of job requirements: skills, qualifications, experiences.\"\n",
    "    ),\n",
    "    agent=researcher,\n",
    "    async_execution=True\n",
    ")\n",
    "\n",
    "profile_task = Task(\n",
    "    description=(\n",
    "        \"Use the GitHub URL ({github_url}) and provided personal write-up ({personal_writeup}) \"\n",
    "        \"to create a detailed personal and professional profile.\"\n",
    "    ),\n",
    "    expected_output=(\n",
    "        \"Comprehensive profile summarizing the candidate's skills, projects, and professional tone.\"\n",
    "    ),\n",
    "    agent=profiler,\n",
    "    async_execution=True\n",
    ")\n",
    "\n",
    "resume_strategy_task = Task(\n",
    "    description=(\n",
    "        \"Refine the resume based on the extracted job requirements and the candidate profile. \"\n",
    "        \"Update summary, experience, skills, and education sections accordingly. Do not invent any info.\"\n",
    "    ),\n",
    "    expected_output=(\n",
    "        \"A highly targeted resume matching the job description.\"\n",
    "    ),\n",
    "    output_file=\"tailored_resume.md\",\n",
    "    context=[research_task, profile_task],\n",
    "    agent=resume_strategist\n",
    ")\n",
    "\n",
    "interview_preparation_task = Task(\n",
    "    description=(\n",
    "        \"Generate personalized interview questions and suggested talking points \"\n",
    "        \"based on the final tailored resume and job posting analysis.\"\n",
    "    ),\n",
    "    expected_output=(\n",
    "        \"Document with potential questions and points the candidate should be prepared to address.\"\n",
    "    ),\n",
    "    output_file=\"interview_materials.md\",\n",
    "    context=[research_task, profile_task, resume_strategy_task],\n",
    "    agent=interview_preparer\n",
    ")"
   ]
  },
  {
   "cell_type": "code",
   "execution_count": null,
   "metadata": {},
   "outputs": [],
   "source": [
    "# Define the Crew\n",
    "job_application_crew = Crew(\n",
    "    agents=[researcher, profiler, resume_strategist, interview_preparer],\n",
    "    tasks=[research_task, profile_task, resume_strategy_task, interview_preparation_task],\n",
    "    verbose=True\n",
    ")"
   ]
  },
  {
   "cell_type": "code",
   "execution_count": null,
   "metadata": {},
   "outputs": [],
   "source": [
    "# Inputs for the job application assistant\n",
    "job_application_inputs = {\n",
    "    'job_posting_url': 'https://testgorilla-1680540968.teamtailor.com/jobs/5955695-senior-machine-learning-engineer?promotion=1480373-trackable-share-link-linkedin-recruiter_clear-a',\n",
    "    'github_url': 'https://github.com/abdessamed122',\n",
    "    'personal_writeup': \"\"\"Abdessamed is a driven Computer Science graduate and AI Research Assistant \n",
    "with hands-on experience in building intelligent systems, including chatbots, \n",
    "RAG applications, and multi-agent architectures using CrewAI and LangChain. \n",
    "He is skilled in Python, JavaScript, React, and modern AI frameworks like \n",
    "TensorFlow and PyTorch. Abdessamed has contributed to academic research on \n",
    "student enrollment prediction in Algeria and developed practical AI-powered \n",
    "tools for document understanding and summarization. Passionate about innovation, \n",
    "he thrives in fast-paced environments and is well-suited for roles in AI \n",
    "engineering, research, or full-stack development.\"\"\"\n",
    "}"
   ]
  },
  {
   "cell_type": "code",
   "execution_count": null,
   "metadata": {},
   "outputs": [],
   "source": [
    "# Run the system\n",
    "result = job_application_crew.kickoff(inputs=job_application_inputs)"
   ]
  },
  {
   "cell_type": "code",
   "execution_count": null,
   "metadata": {},
   "outputs": [],
   "source": [
    "# Display output files\n",
    "from IPython.display import Markdown, display\n",
    "display(Markdown(\"./tailored_resume.md\"))\n",
    "display(Markdown(\"./interview_materials.md\"))"
   ]
  }
 ],
 "metadata": {
  "kernelspec": {
   "display_name": "Python 3",
   "language": "python",
   "name": "python3"
  },
  "language_info": {
   "name": "python"
  }
 },
 "nbformat": 4,
 "nbformat_minor": 2
}